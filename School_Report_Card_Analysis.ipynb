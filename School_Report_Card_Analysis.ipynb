{
  "nbformat": 4,
  "nbformat_minor": 0,
  "metadata": {
    "colab": {
      "provenance": []
    },
    "kernelspec": {
      "name": "python3",
      "display_name": "Python 3"
    },
    "language_info": {
      "name": "python"
    }
  },
  "cells": [
    {
      "cell_type": "markdown",
      "source": [
        "# Creating a Dataset from Raw Data"
      ],
      "metadata": {
        "id": "gLTPeh1TZrE5"
      }
    },
    {
      "cell_type": "markdown",
      "source": [
        "## Overview\n",
        "- This notebook is a guide on creating a subset of data using python\n",
        "- The finshed project with show correlation data about Colleges and what helps their student succeed."
      ],
      "metadata": {
        "id": "eQ4gU0N4ZNZz"
      }
    },
    {
      "cell_type": "markdown",
      "source": [
        "# Set Up"
      ],
      "metadata": {
        "id": "j1QHWCeDmANs"
      }
    },
    {
      "cell_type": "markdown",
      "source": [
        "Before any coding can be done you must:\n",
        "1. Download the raw data as a .csv file to your computer\n",
        "2. create a folder in your Google Drive and upload the data to that folder\n"
      ],
      "metadata": {
        "id": "Jhvq_9YFZ7M3"
      }
    },
    {
      "cell_type": "markdown",
      "source": [
        "Next, Mount the data from your google drive using code similiar to the one below\n",
        "\n",
        "`from google.colab import drive\n",
        "drive.mount('/content/gdrive')`"
      ],
      "metadata": {
        "id": "pHRJBjuymrRm"
      }
    },
    {
      "cell_type": "code",
      "execution_count": 2,
      "metadata": {
        "colab": {
          "base_uri": "https://localhost:8080/"
        },
        "id": "MwVR4dByuMhH",
        "outputId": "2bcefd7f-2756-4e17-ade1-3faab061f83a"
      },
      "outputs": [
        {
          "output_type": "stream",
          "name": "stdout",
          "text": [
            "Mounted at /content/gdrive\n"
          ]
        }
      ],
      "source": [
        "from google.colab import drive\n",
        "drive.mount('/content/gdrive')"
      ]
    },
    {
      "cell_type": "markdown",
      "source": [
        "### Import Packages\n",
        "Use the code function `import` to import pandas and numpy. Pandas and numpy can be renamed for convience using the `as` feature as exampled in the code below\n",
        "\n",
        "`import numpy as np\n",
        "import pandas as pd`"
      ],
      "metadata": {
        "id": "zuXK12ALau2i"
      }
    },
    {
      "cell_type": "code",
      "source": [
        "import numpy as np\n",
        "import pandas as pd"
      ],
      "metadata": {
        "id": "iriB1rDjbsuz"
      },
      "execution_count": 4,
      "outputs": []
    },
    {
      "cell_type": "markdown",
      "source": [
        "Next the data needs to be read using the code `df=pd.read_.csv`\n",
        "`df=pd.read_csv('gdrive/MyDrive/Unit-3_105/Most-Recent-Cohorts-Institution.csv')`  . This allows for the code to read the data collected.\n",
        "The df implies this is your dataframe."
      ],
      "metadata": {
        "id": "OPXcMLwLn566"
      }
    },
    {
      "cell_type": "code",
      "source": [
        "df=pd.read_csv('gdrive/MyDrive/Unit-3_105/Most-Recent-Cohorts-Institution.csv')"
      ],
      "metadata": {
        "colab": {
          "base_uri": "https://localhost:8080/"
        },
        "id": "W9iOTEeycjG0",
        "outputId": "5d77dd14-231c-495b-9ef7-3dbf265b82c8"
      },
      "execution_count": 5,
      "outputs": [
        {
          "output_type": "stream",
          "name": "stderr",
          "text": [
            "<ipython-input-5-44ac3ed1b08a>:1: DtypeWarning: Columns (9,1537,1540,1542,1606,1608,1614,1615,1619,1620,1621,1622,1623,1624,1625,1626,1627,1628,1629,1690,1692,1697,1700,1725,1726,1727,1728,1729,1743,1815,1816,1817,1818,1823,1824,1830,1831,1879,1880,1881,1882,1883,1884,1885,1886,1887,1888,1889,1890,1891,1892,1893,1894,1895,1896,1897,1898,1909,1910,1911,1912,1913,1957,1958,1959,1960,1961,1962,1963,1964,1965,1966,1967,1968,1969,1970,1971,1972,1973,1974,1975,1976,1983,1984,2376,2377,2403,2404,2495,2496,2497,2498,2499,2500,2501,2502,2503,2504,2505,2506,2507,2508,2509,2510,2511,2512,2513,2514,2515,2516,2517,2518,2519,2520,2521,2522,2523,2524,2525,2526,2527,2528,2529,2530,2958,3215,3231,3235,3236) have mixed types. Specify dtype option on import or set low_memory=False.\n",
            "  df=pd.read_csv('gdrive/MyDrive/Unit-3_105/Most-Recent-Cohorts-Institution.csv')\n"
          ]
        }
      ]
    },
    {
      "cell_type": "markdown",
      "source": [
        "Then to check the data file size and shape the codes `df.shape` and `df.size` were used in succesion. This helped to show the size and shape of the file ensureing that it it fully there."
      ],
      "metadata": {
        "id": "Hx2OBOPCoseL"
      }
    },
    {
      "cell_type": "code",
      "source": [
        "df.shape"
      ],
      "metadata": {
        "colab": {
          "base_uri": "https://localhost:8080/"
        },
        "id": "fiDXJUcpiwZK",
        "outputId": "219fc453-71ff-4e25-e095-377f4b2212b8"
      },
      "execution_count": 7,
      "outputs": [
        {
          "output_type": "execute_result",
          "data": {
            "text/plain": [
              "(6484, 3305)"
            ]
          },
          "metadata": {},
          "execution_count": 7
        }
      ]
    },
    {
      "cell_type": "code",
      "source": [
        "df.size"
      ],
      "metadata": {
        "colab": {
          "base_uri": "https://localhost:8080/"
        },
        "id": "Ymo9CGQ6i1SH",
        "outputId": "2533de70-d952-4fd7-d10d-6ab73e18f3c0"
      },
      "execution_count": 8,
      "outputs": [
        {
          "output_type": "execute_result",
          "data": {
            "text/plain": [
              "21429620"
            ]
          },
          "metadata": {},
          "execution_count": 8
        }
      ]
    },
    {
      "cell_type": "markdown",
      "source": [
        "Next to show which columns where present the code `df.columns` was implemented\n"
      ],
      "metadata": {
        "id": "eShg_4QKpLZ5"
      }
    },
    {
      "cell_type": "code",
      "source": [
        "df.columns"
      ],
      "metadata": {
        "colab": {
          "base_uri": "https://localhost:8080/"
        },
        "id": "xekxDJ1si_R7",
        "outputId": "28a16774-e53c-4cb1-e48d-61fe99128721"
      },
      "execution_count": 9,
      "outputs": [
        {
          "output_type": "execute_result",
          "data": {
            "text/plain": [
              "Index(['UNITID', 'OPEID', 'OPEID6', 'INSTNM', 'CITY', 'STABBR', 'ZIP',\n",
              "       'ACCREDAGENCY', 'INSTURL', 'NPCURL',\n",
              "       ...\n",
              "       'COUNT_WNE_MALE0_P11', 'COUNT_WNE_MALE1_P11', 'GT_THRESHOLD_P11',\n",
              "       'MD_EARN_WNE_INC1_P11', 'MD_EARN_WNE_INC2_P11', 'MD_EARN_WNE_INC3_P11',\n",
              "       'MD_EARN_WNE_INDEP0_P11', 'MD_EARN_WNE_INDEP1_P11',\n",
              "       'MD_EARN_WNE_MALE0_P11', 'MD_EARN_WNE_MALE1_P11'],\n",
              "      dtype='object', length=3305)"
            ]
          },
          "metadata": {},
          "execution_count": 9
        }
      ]
    },
    {
      "cell_type": "markdown",
      "source": [
        "# Filtering Data"
      ],
      "metadata": {
        "id": "HTAb4l6m3lgU"
      }
    },
    {
      "cell_type": "markdown",
      "source": [
        "## Comparing Acceptance rate to Median Earnings"
      ],
      "metadata": {
        "id": "BiLaeb0upYVb"
      }
    },
    {
      "cell_type": "code",
      "source": [
        "ADMRTEVSMDEARN= df[['ADM_RATE', 'MD_EARN_WNE_P10']]"
      ],
      "metadata": {
        "id": "_zytMIUgkyCL"
      },
      "execution_count": 10,
      "outputs": []
    },
    {
      "cell_type": "code",
      "source": [
        "ADMRTEVSMDEARN.to_csv('ADMRTEVSMDEARN.csv', index=False)"
      ],
      "metadata": {
        "id": "XAPn1yvzM1BP"
      },
      "execution_count": 11,
      "outputs": []
    },
    {
      "cell_type": "markdown",
      "source": [
        "To compare the acceptance rate to earning the two columns were singled out and ocmpared using `ADMRTEVSMDEARN = df[['ADM_RATE', 'MD_EARN_WNE_P10']]`\n",
        "\n",
        "This lets the code know we are comparing these two columns and to not use any other columns."
      ],
      "metadata": {
        "id": "EC00y5wMpowv"
      }
    },
    {
      "cell_type": "markdown",
      "source": [
        "Next the correlation is found using the code `correlation = ADMRTEVSMDEARN['ADM_RATE'].corr(ADMRTEVSMDEARN['MD_EARN_WNE_P10'])\n",
        "print(f\"Correlation: {correlation}\")`"
      ],
      "metadata": {
        "id": "jqCZ7qR0qDnF"
      }
    },
    {
      "cell_type": "code",
      "source": [
        "correlation = ADMRTEVSMDEARN['ADM_RATE'].corr(ADMRTEVSMDEARN['MD_EARN_WNE_P10'])\n",
        "print(f\"Correlation: {correlation}\")"
      ],
      "metadata": {
        "colab": {
          "base_uri": "https://localhost:8080/"
        },
        "id": "Zupfi8Gplx3s",
        "outputId": "f9e02b03-4214-49c4-c086-402b805cb569"
      },
      "execution_count": 12,
      "outputs": [
        {
          "output_type": "stream",
          "name": "stdout",
          "text": [
            "Correlation: -0.32713763547850466\n"
          ]
        }
      ]
    },
    {
      "cell_type": "markdown",
      "source": [
        "To better understand the data found from the correlation number as graph was utilized"
      ],
      "metadata": {
        "id": "tMsuThJWqQHQ"
      }
    },
    {
      "cell_type": "markdown",
      "source": [
        "To implement the graph in this code use code:\n",
        "\n",
        "`import matplotlib.pyplot as plt`\n",
        "\n",
        "`plt.scatter(ADMRTEVSMDEARN['ADM_RATE']`, `ADMRTEVSMDEARN['MD_EARN_WNE_P10'])`\n",
        "`plt.xlabel('Acceptance Rate')`\n",
        "`plt.ylabel('Percentage Earning More Than High School Graduate')`\n",
        "`plt.title('Acceptance Rate vs. Earnings')`\n",
        "`plt.show()`"
      ],
      "metadata": {
        "id": "lilXaWKLqeAe"
      }
    },
    {
      "cell_type": "markdown",
      "source": [
        "This will import mat plot lib allow a graph to be present in the code."
      ],
      "metadata": {
        "id": "RReTdL28qu4J"
      }
    },
    {
      "cell_type": "code",
      "source": [
        "import matplotlib.pyplot as plt\n",
        "\n",
        "plt.scatter(ADMRTEVSMDEARN['ADM_RATE'], ADMRTEVSMDEARN['MD_EARN_WNE_P10'])\n",
        "plt.xlabel('Acceptance Rate')\n",
        "plt.ylabel('Percentage Earning More Than High School Graduate')\n",
        "plt.title('Acceptance Rate vs. Earnings')\n",
        "plt.show()"
      ],
      "metadata": {
        "colab": {
          "base_uri": "https://localhost:8080/",
          "height": 472
        },
        "id": "LoH-gtwxl2Xm",
        "outputId": "9ca601e3-7e1d-4348-d2d5-3bdd20fdbe74"
      },
      "execution_count": 13,
      "outputs": [
        {
          "output_type": "display_data",
          "data": {
            "text/plain": [
              "<Figure size 640x480 with 1 Axes>"
            ],
            "image/png": "[encoded data removed]"
          },
          "metadata": {}
        }
      ]
    },
    {
      "cell_type": "markdown",
      "source": [
        "The graph for Acceptance Rate to Median Earnings shows low correlation."
      ],
      "metadata": {
        "id": "nPN_reBWq5rL"
      }
    },
    {
      "cell_type": "markdown",
      "source": [
        "## Comparing Student Faculty rate to Graduation Rate"
      ],
      "metadata": {
        "id": "4EiTB4a8rgAE"
      }
    },
    {
      "cell_type": "markdown",
      "source": [
        "To compare the acceptance rate to earning the two columns were singled out and ocmpared using `STUFACRVSGRADRTE = df[['STUFACR', 'C150_4']]`\n",
        "\n",
        "This lets the code know we are comparing these two columns and to not use any other columns."
      ],
      "metadata": {
        "id": "OYWCyiiesCjz"
      }
    },
    {
      "cell_type": "code",
      "source": [
        "STUFACRVSGRADRTE= df[['STUFACR', 'C150_4']]"
      ],
      "metadata": {
        "id": "afs-sh13n6Y8"
      },
      "execution_count": 14,
      "outputs": []
    },
    {
      "cell_type": "code",
      "source": [
        "STUFACRVSGRADRTE.to_csv('STUFACRVSGRADRTE.csv', index=False)"
      ],
      "metadata": {
        "id": "oaeLeNJFM_V5"
      },
      "execution_count": 15,
      "outputs": []
    },
    {
      "cell_type": "markdown",
      "source": [
        "Next the correlation is found using the code\n",
        "\n",
        "`correlation = STUFACRVSGRADRTE['MD_EARN_WNE_P10'].corr(STUFACRVSGRADRTE['STUFACR'])\n",
        "print(f\"Correlation: {correlation}\")`"
      ],
      "metadata": {
        "id": "1fGcTOXwsPcW"
      }
    },
    {
      "cell_type": "code",
      "source": [
        "correlation = STUFACRVSGRADRTE['STUFACR'].corr(STUFACRVSGRADRTE['C150_4'])\n",
        "print(f\"Correlation: {correlation}\")"
      ],
      "metadata": {
        "colab": {
          "base_uri": "https://localhost:8080/"
        },
        "id": "usbJQVwkoylY",
        "outputId": "18f7b4e2-75b0-43f5-db32-e6f5eb710615"
      },
      "execution_count": 16,
      "outputs": [
        {
          "output_type": "stream",
          "name": "stdout",
          "text": [
            "Correlation: -0.1406416167486119\n"
          ]
        }
      ]
    },
    {
      "cell_type": "markdown",
      "source": [
        "###To implement the graph in this code use code:\n",
        "`import matplotlib.pyplot as plt` to import matlab\n",
        "\n",
        "Next to show what we are comparing use\n",
        "\n",
        "`plt.scatter(STUFACRVSGRADRTE['STUFACR'], STUFACRVSGRADRTE['C150_4'])`\n",
        "Next label the axis and create a title using\n",
        "`plt.xlabel('Graduation Rate')`\n",
        "`plt.ylabel('Student-Faculty Ratio')`\n",
        "`plt.title('Student-Faculty Ratio vs. Graduation Rate')`\n",
        "###Set x-axis limits using\n",
        "plt.xlim(10, 40)  # Example: Zoom in on student-faculty ratios between 10 and 20\n",
        "### Set y-axis limits using\n",
        "plt.ylim(0.0, 1.0)  # Example: Zoom in on graduation rates between 0.6 and 1.0\n",
        "\n",
        "**To initiate the showing of the plot use**\n",
        "\n",
        "`plt.show()`"
      ],
      "metadata": {
        "id": "BNb8wqeSsZ6I"
      }
    },
    {
      "cell_type": "code",
      "source": [
        "df.drop_duplicates(inplace=True)"
      ],
      "metadata": {
        "id": "VUjVwkGJr1aP"
      },
      "execution_count": 17,
      "outputs": []
    },
    {
      "cell_type": "code",
      "source": [
        "import matplotlib.pyplot as plt\n",
        "\n",
        "plt.scatter(STUFACRVSGRADRTE['STUFACR'], STUFACRVSGRADRTE['C150_4'])\n",
        "plt.xlabel('Graduation Rate')\n",
        "plt.ylabel('Student-Faculty Ratio')\n",
        "plt.title('Student-Faculty Ratio vs. Graduation Rate')\n",
        "# Set x-axis limits\n",
        "plt.xlim(10, 40)  # Example: Zoom in on student-faculty ratios between 10 and 20\n",
        "# Set y-axis limits\n",
        "plt.ylim(0.0, 1.0)  # Example: Zoom in on graduation rates between 0.6 and 1.0\n",
        "plt.show()"
      ],
      "metadata": {
        "colab": {
          "base_uri": "https://localhost:8080/",
          "height": 472
        },
        "id": "MuoJuDito316",
        "outputId": "2dfa5f05-37d4-4ebb-9dc9-112307080024"
      },
      "execution_count": 18,
      "outputs": [
        {
          "output_type": "display_data",
          "data": {
            "text/plain": [
              "<Figure size 640x480 with 1 Axes>"
            ],
            "image/png": "[encoded data removed]"
          },
          "metadata": {}
        }
      ]
    },
    {
      "cell_type": "markdown",
      "source": [
        "## Comparing Median Earnings to Student Faculty Rate"
      ],
      "metadata": {
        "id": "u5rwYVw1t97q"
      }
    },
    {
      "cell_type": "markdown",
      "source": [
        "Use code `MDEARNVSSTUFR = df[['MD_EARN_WNE_P10', 'STUFACR']]` to tell the code which columns we are comparing\n",
        "\n",
        "we will also put a `(MDEARNVSSTUFR.to_csv('MDEARNVSSTUFR.csv', index=False)` to turn this dataset into a csv in case it needs to be exported later."
      ],
      "metadata": {
        "id": "G3mRDK81uRPi"
      }
    },
    {
      "cell_type": "code",
      "source": [
        "MDEARNVSSTUFR= df[['MD_EARN_WNE_P10', 'STUFACR']]"
      ],
      "metadata": {
        "id": "gBOvDpPxsH33"
      },
      "execution_count": 19,
      "outputs": []
    },
    {
      "cell_type": "code",
      "source": [
        "MDEARNVSSTUFR.to_csv('MDEARNVSSTUFR.csv', index=False)"
      ],
      "metadata": {
        "id": "b1_mpo54Mqzc"
      },
      "execution_count": 20,
      "outputs": []
    },
    {
      "cell_type": "markdown",
      "source": [
        "Next the correlation is found using the code `correlation = MDEARNVSSTUFR['MD_EARN_WNE_P10'].corr(MDEARNVSSTUFR['STUFACR'])\n",
        "print(f\"Correlation: {correlation}\")`\n",
        "\n",
        "This will show the imapact the Student Faculty Ratio has on Median Salary in a numeric form"
      ],
      "metadata": {
        "id": "SvwHC35juudZ"
      }
    },
    {
      "cell_type": "code",
      "source": [
        "correlation = MDEARNVSSTUFR['MD_EARN_WNE_P10'].corr(MDEARNVSSTUFR['STUFACR'])\n",
        "print(f\"Correlation: {correlation}\")"
      ],
      "metadata": {
        "colab": {
          "base_uri": "https://localhost:8080/"
        },
        "id": "VWXDv38psbvC",
        "outputId": "77e9543e-4ae3-405d-fd59-5311568abfab"
      },
      "execution_count": 21,
      "outputs": [
        {
          "output_type": "stream",
          "name": "stdout",
          "text": [
            "Correlation: -0.17285758168214632\n"
          ]
        }
      ]
    },
    {
      "cell_type": "markdown",
      "source": [
        "To show this in a graph form for visualization purposes use:\n",
        "import matplotlib.pyplot as plt to import matlab\n",
        "\n",
        "To show we are using a scatterplot and which data we are comparing use function\n",
        "\n",
        "`plt.scatter(MDEARNVSSTUFR['STUFACR'], MDEARNVSSTUFR['MD_EARN_WNE_P10'])`\n",
        "\n",
        "To signify the labels of each of our axis and the title use the funtions:\n",
        "`plt.xlabel('Student-Faculty Ratio')`\n",
        "`plt.ylabel('Median Income')`\n",
        "`plt.title('Student-Faculty Ratio vs. Median Income')`\n",
        "\n",
        "To show the plot use function:\n",
        "\n",
        "`plt.show()`"
      ],
      "metadata": {
        "id": "7U_C9U64vP6b"
      }
    },
    {
      "cell_type": "code",
      "source": [
        "plt.scatter(MDEARNVSSTUFR['STUFACR'], MDEARNVSSTUFR['MD_EARN_WNE_P10'])\n",
        "plt.xlabel('Student-Faculty Ratio')\n",
        "plt.ylabel('Median Income')\n",
        "plt.title('Student-Faculty Ratio vs. Median Income')\n",
        "plt.show()"
      ],
      "metadata": {
        "colab": {
          "base_uri": "https://localhost:8080/",
          "height": 472
        },
        "id": "W_MxfFvBseYT",
        "outputId": "7deff16d-cdfd-4c1f-8e12-b05a9f87c961"
      },
      "execution_count": 22,
      "outputs": [
        {
          "output_type": "display_data",
          "data": {
            "text/plain": [
              "<Figure size 640x480 with 1 Axes>"
            ],
            "image/png": "[encoded data removed]"
          },
          "metadata": {}
        }
      ]
    },
    {
      "cell_type": "markdown",
      "source": [
        "Next we use `MDEARNVSSTUFR.to_csv('MDEARNVSSTUFR', index=False)` to turn the data into a .csv which can be used to export it at a later date.\n",
        "By using  `index=false` we eliminate the indices that pandas created when we read the original file by using `.read_csv`."
      ],
      "metadata": {
        "id": "_o5MnA_QNs7a"
      }
    },
    {
      "cell_type": "code",
      "source": [
        "MDEARNVSSTUFR.to_csv('MDEARNVSSTUFR', index=False)"
      ],
      "metadata": {
        "id": "Z0yicChEAvD8"
      },
      "execution_count": 23,
      "outputs": []
    },
    {
      "cell_type": "markdown",
      "source": [
        "## What These Show Us"
      ],
      "metadata": {
        "id": "9NU8faUCw3WN"
      }
    },
    {
      "cell_type": "markdown",
      "source": [
        "These graph shows low correlation and what there may be a variable that has not been considered for increased salary and increased graduation rate."
      ],
      "metadata": {
        "id": "0OwWdWG-xPEd"
      }
    },
    {
      "cell_type": "markdown",
      "source": [
        "# Merging the Data\n",
        "Now that all the graph and subsets have been created, wee need to merge the data into one .csv.\n",
        " We will be using concat as it will stack the data on top of each other as the data we have found does not measure the same thing"
      ],
      "metadata": {
        "id": "kOFPi_5P-uVJ"
      }
    },
    {
      "cell_type": "code",
      "source": [
        "pd.concat([MDEARNVSSTUFR,STUFACRVSGRADRTE,ADMRTEVSMDEARN], axis=1)"
      ],
      "metadata": {
        "colab": {
          "base_uri": "https://localhost:8080/",
          "height": 423
        },
        "id": "PWy5_DbWX6r6",
        "outputId": "5e9b92f7-280f-4b0c-ba69-f8559d72206b"
      },
      "execution_count": 24,
      "outputs": [
        {
          "output_type": "execute_result",
          "data": {
            "text/plain": [
              "      MD_EARN_WNE_P10  STUFACR  STUFACR  C150_4  ADM_RATE  MD_EARN_WNE_P10\n",
              "0             40628.0     19.0     19.0  0.2678    0.6840          40628.0\n",
              "1             54501.0     18.0     18.0  0.6442    0.8668          54501.0\n",
              "2             37621.0     12.0     12.0  0.5000       NaN          37621.0\n",
              "3             61767.0     17.0     17.0  0.6295    0.7810          61767.0\n",
              "4             34502.0     14.0     14.0  0.2773    0.9660          34502.0\n",
              "...               ...      ...      ...     ...       ...              ...\n",
              "6479              NaN      NaN      NaN     NaN       NaN              NaN\n",
              "6480          24900.0      NaN      NaN     NaN       NaN          24900.0\n",
              "6481              NaN      NaN      NaN     NaN       NaN              NaN\n",
              "6482              NaN      NaN      NaN     NaN       NaN              NaN\n",
              "6483              NaN      NaN      NaN     NaN       NaN              NaN\n",
              "\n",
              "[6484 rows x 6 columns]"
            ],
            "text/html": [
              "\n",
              "  <div id=\"df-18f9337f-5b1a-469d-9cf6-8727c0ab5818\" class=\"colab-df-container\">\n",
              "    <div>\n",
              "<style scoped>\n",
              "    .dataframe tbody tr th:only-of-type {\n",
              "        vertical-align: middle;\n",
              "    }\n",
              "\n",
              "    .dataframe tbody tr th {\n",
              "        vertical-align: top;\n",
              "    }\n",
              "\n",
              "    .dataframe thead th {\n",
              "        text-align: right;\n",
              "    }\n",
              "</style>\n",
              "<table border=\"1\" class=\"dataframe\">\n",
              "  <thead>\n",
              "    <tr style=\"text-align: right;\">\n",
              "      <th></th>\n",
              "      <th>MD_EARN_WNE_P10</th>\n",
              "      <th>STUFACR</th>\n",
              "      <th>STUFACR</th>\n",
              "      <th>C150_4</th>\n",
              "      <th>ADM_RATE</th>\n",
              "      <th>MD_EARN_WNE_P10</th>\n",
              "    </tr>\n",
              "  </thead>\n",
              "  <tbody>\n",
              "    <tr>\n",
              "      <th>0</th>\n",
              "      <td>40628.0</td>\n",
              "      <td>19.0</td>\n",
              "      <td>19.0</td>\n",
              "      <td>0.2678</td>\n",
              "      <td>0.6840</td>\n",
              "      <td>40628.0</td>\n",
              "    </tr>\n",
              "    <tr>\n",
              "      <th>1</th>\n",
              "      <td>54501.0</td>\n",
              "      <td>18.0</td>\n",
              "      <td>18.0</td>\n",
              "      <td>0.6442</td>\n",
              "      <td>0.8668</td>\n",
              "      <td>54501.0</td>\n",
              "    </tr>\n",
              "    <tr>\n",
              "      <th>2</th>\n",
              "      <td>37621.0</td>\n",
              "      <td>12.0</td>\n",
              "      <td>12.0</td>\n",
              "      <td>0.5000</td>\n",
              "      <td>NaN</td>\n",
              "      <td>37621.0</td>\n",
              "    </tr>\n",
              "    <tr>\n",
              "      <th>3</th>\n",
              "      <td>61767.0</td>\n",
              "      <td>17.0</td>\n",
              "      <td>17.0</td>\n",
              "      <td>0.6295</td>\n",
              "      <td>0.7810</td>\n",
              "      <td>61767.0</td>\n",
              "    </tr>\n",
              "    <tr>\n",
              "      <th>4</th>\n",
              "      <td>34502.0</td>\n",
              "      <td>14.0</td>\n",
              "      <td>14.0</td>\n",
              "      <td>0.2773</td>\n",
              "      <td>0.9660</td>\n",
              "      <td>34502.0</td>\n",
              "    </tr>\n",
              "    <tr>\n",
              "      <th>...</th>\n",
              "      <td>...</td>\n",
              "      <td>...</td>\n",
              "      <td>...</td>\n",
              "      <td>...</td>\n",
              "      <td>...</td>\n",
              "      <td>...</td>\n",
              "    </tr>\n",
              "    <tr>\n",
              "      <th>6479</th>\n",
              "      <td>NaN</td>\n",
              "      <td>NaN</td>\n",
              "      <td>NaN</td>\n",
              "      <td>NaN</td>\n",
              "      <td>NaN</td>\n",
              "      <td>NaN</td>\n",
              "    </tr>\n",
              "    <tr>\n",
              "      <th>6480</th>\n",
              "      <td>24900.0</td>\n",
              "      <td>NaN</td>\n",
              "      <td>NaN</td>\n",
              "      <td>NaN</td>\n",
              "      <td>NaN</td>\n",
              "      <td>24900.0</td>\n",
              "    </tr>\n",
              "    <tr>\n",
              "      <th>6481</th>\n",
              "      <td>NaN</td>\n",
              "      <td>NaN</td>\n",
              "      <td>NaN</td>\n",
              "      <td>NaN</td>\n",
              "      <td>NaN</td>\n",
              "      <td>NaN</td>\n",
              "    </tr>\n",
              "    <tr>\n",
              "      <th>6482</th>\n",
              "      <td>NaN</td>\n",
              "      <td>NaN</td>\n",
              "      <td>NaN</td>\n",
              "      <td>NaN</td>\n",
              "      <td>NaN</td>\n",
              "      <td>NaN</td>\n",
              "    </tr>\n",
              "    <tr>\n",
              "      <th>6483</th>\n",
              "      <td>NaN</td>\n",
              "      <td>NaN</td>\n",
              "      <td>NaN</td>\n",
              "      <td>NaN</td>\n",
              "      <td>NaN</td>\n",
              "      <td>NaN</td>\n",
              "    </tr>\n",
              "  </tbody>\n",
              "</table>\n",
              "<p>6484 rows × 6 columns</p>\n",
              "</div>\n",
              "    <div class=\"colab-df-buttons\">\n",
              "\n",
              "  <div class=\"colab-df-container\">\n",
              "    <button class=\"colab-df-convert\" onclick=\"convertToInteractive('df-18f9337f-5b1a-469d-9cf6-8727c0ab5818')\"\n",
              "            title=\"Convert this dataframe to an interactive table.\"\n",
              "            style=\"display:none;\">\n",
              "\n",
              "  <svg xmlns=\"http://www.w3.org/2000/svg\" height=\"24px\" viewBox=\"0 -960 960 960\">\n",
              "    <path d=\"M120-120v-720h720v720H120Zm60-500h600v-160H180v160Zm220 220h160v-160H400v160Zm0 220h160v-160H400v160ZM180-400h160v-160H180v160Zm440 0h160v-160H620v160ZM180-180h160v-160H180v160Zm440 0h160v-160H620v160Z\"/>\n",
              "  </svg>\n",
              "    </button>\n",
              "\n",
              "  <style>\n",
              "    .colab-df-container {\n",
              "      display:flex;\n",
              "      gap: 12px;\n",
              "    }\n",
              "\n",
              "    .colab-df-convert {\n",
              "      background-color: #E8F0FE;\n",
              "      border: none;\n",
              "      border-radius: 50%;\n",
              "      cursor: pointer;\n",
              "      display: none;\n",
              "      fill: #1967D2;\n",
              "      height: 32px;\n",
              "      padding: 0 0 0 0;\n",
              "      width: 32px;\n",
              "    }\n",
              "\n",
              "    .colab-df-convert:hover {\n",
              "      background-color: #E2EBFA;\n",
              "      box-shadow: 0px 1px 2px rgba(60, 64, 67, 0.3), 0px 1px 3px 1px rgba(60, 64, 67, 0.15);\n",
              "      fill: #174EA6;\n",
              "    }\n",
              "\n",
              "    .colab-df-buttons div {\n",
              "      margin-bottom: 4px;\n",
              "    }\n",
              "\n",
              "    [theme=dark] .colab-df-convert {\n",
              "      background-color: #3B4455;\n",
              "      fill: #D2E3FC;\n",
              "    }\n",
              "\n",
              "    [theme=dark] .colab-df-convert:hover {\n",
              "      background-color: #434B5C;\n",
              "      box-shadow: 0px 1px 3px 1px rgba(0, 0, 0, 0.15);\n",
              "      filter: drop-shadow(0px 1px 2px rgba(0, 0, 0, 0.3));\n",
              "      fill: #FFFFFF;\n",
              "    }\n",
              "  </style>\n",
              "\n",
              "    <script>\n",
              "      const buttonEl =\n",
              "        document.querySelector('#df-18f9337f-5b1a-469d-9cf6-8727c0ab5818 button.colab-df-convert');\n",
              "      buttonEl.style.display =\n",
              "        google.colab.kernel.accessAllowed ? 'block' : 'none';\n",
              "\n",
              "      async function convertToInteractive(key) {\n",
              "        const element = document.querySelector('#df-18f9337f-5b1a-469d-9cf6-8727c0ab5818');\n",
              "        const dataTable =\n",
              "          await google.colab.kernel.invokeFunction('convertToInteractive',\n",
              "                                                    [key], {});\n",
              "        if (!dataTable) return;\n",
              "\n",
              "        const docLinkHtml = 'Like what you see? Visit the ' +\n",
              "          '<a target=\"_blank\" href=https://colab.research.google.com/notebooks/data_table.ipynb>data table notebook</a>'\n",
              "          + ' to learn more about interactive tables.';\n",
              "        element.innerHTML = '';\n",
              "        dataTable['output_type'] = 'display_data';\n",
              "        await google.colab.output.renderOutput(dataTable, element);\n",
              "        const docLink = document.createElement('div');\n",
              "        docLink.innerHTML = docLinkHtml;\n",
              "        element.appendChild(docLink);\n",
              "      }\n",
              "    </script>\n",
              "  </div>\n",
              "\n",
              "\n",
              "    <div id=\"df-acb20721-98fb-4337-b4f4-e184a219981e\">\n",
              "      <button class=\"colab-df-quickchart\" onclick=\"quickchart('df-acb20721-98fb-4337-b4f4-e184a219981e')\"\n",
              "                title=\"Suggest charts\"\n",
              "                style=\"display:none;\">\n",
              "\n",
              "<svg xmlns=\"http://www.w3.org/2000/svg\" height=\"24px\"viewBox=\"0 0 24 24\"\n",
              "     width=\"24px\">\n",
              "    <g>\n",
              "        <path d=\"M19 3H5c-1.1 0-2 .9-2 2v14c0 1.1.9 2 2 2h14c1.1 0 2-.9 2-2V5c0-1.1-.9-2-2-2zM9 17H7v-7h2v7zm4 0h-2V7h2v10zm4 0h-2v-4h2v4z\"/>\n",
              "    </g>\n",
              "</svg>\n",
              "      </button>\n",
              "\n",
              "<style>\n",
              "  .colab-df-quickchart {\n",
              "      --bg-color: #E8F0FE;\n",
              "      --fill-color: #1967D2;\n",
              "      --hover-bg-color: #E2EBFA;\n",
              "      --hover-fill-color: #174EA6;\n",
              "      --disabled-fill-color: #AAA;\n",
              "      --disabled-bg-color: #DDD;\n",
              "  }\n",
              "\n",
              "  [theme=dark] .colab-df-quickchart {\n",
              "      --bg-color: #3B4455;\n",
              "      --fill-color: #D2E3FC;\n",
              "      --hover-bg-color: #434B5C;\n",
              "      --hover-fill-color: #FFFFFF;\n",
              "      --disabled-bg-color: #3B4455;\n",
              "      --disabled-fill-color: #666;\n",
              "  }\n",
              "\n",
              "  .colab-df-quickchart {\n",
              "    background-color: var(--bg-color);\n",
              "    border: none;\n",
              "    border-radius: 50%;\n",
              "    cursor: pointer;\n",
              "    display: none;\n",
              "    fill: var(--fill-color);\n",
              "    height: 32px;\n",
              "    padding: 0;\n",
              "    width: 32px;\n",
              "  }\n",
              "\n",
              "  .colab-df-quickchart:hover {\n",
              "    background-color: var(--hover-bg-color);\n",
              "    box-shadow: 0 1px 2px rgba(60, 64, 67, 0.3), 0 1px 3px 1px rgba(60, 64, 67, 0.15);\n",
              "    fill: var(--button-hover-fill-color);\n",
              "  }\n",
              "\n",
              "  .colab-df-quickchart-complete:disabled,\n",
              "  .colab-df-quickchart-complete:disabled:hover {\n",
              "    background-color: var(--disabled-bg-color);\n",
              "    fill: var(--disabled-fill-color);\n",
              "    box-shadow: none;\n",
              "  }\n",
              "\n",
              "  .colab-df-spinner {\n",
              "    border: 2px solid var(--fill-color);\n",
              "    border-color: transparent;\n",
              "    border-bottom-color: var(--fill-color);\n",
              "    animation:\n",
              "      spin 1s steps(1) infinite;\n",
              "  }\n",
              "\n",
              "  @keyframes spin {\n",
              "    0% {\n",
              "      border-color: transparent;\n",
              "      border-bottom-color: var(--fill-color);\n",
              "      border-left-color: var(--fill-color);\n",
              "    }\n",
              "    20% {\n",
              "      border-color: transparent;\n",
              "      border-left-color: var(--fill-color);\n",
              "      border-top-color: var(--fill-color);\n",
              "    }\n",
              "    30% {\n",
              "      border-color: transparent;\n",
              "      border-left-color: var(--fill-color);\n",
              "      border-top-color: var(--fill-color);\n",
              "      border-right-color: var(--fill-color);\n",
              "    }\n",
              "    40% {\n",
              "      border-color: transparent;\n",
              "      border-right-color: var(--fill-color);\n",
              "      border-top-color: var(--fill-color);\n",
              "    }\n",
              "    60% {\n",
              "      border-color: transparent;\n",
              "      border-right-color: var(--fill-color);\n",
              "    }\n",
              "    80% {\n",
              "      border-color: transparent;\n",
              "      border-right-color: var(--fill-color);\n",
              "      border-bottom-color: var(--fill-color);\n",
              "    }\n",
              "    90% {\n",
              "      border-color: transparent;\n",
              "      border-bottom-color: var(--fill-color);\n",
              "    }\n",
              "  }\n",
              "</style>\n",
              "\n",
              "      <script>\n",
              "        async function quickchart(key) {\n",
              "          const quickchartButtonEl =\n",
              "            document.querySelector('#' + key + ' button');\n",
              "          quickchartButtonEl.disabled = true;  // To prevent multiple clicks.\n",
              "          quickchartButtonEl.classList.add('colab-df-spinner');\n",
              "          try {\n",
              "            const charts = await google.colab.kernel.invokeFunction(\n",
              "                'suggestCharts', [key], {});\n",
              "          } catch (error) {\n",
              "            console.error('Error during call to suggestCharts:', error);\n",
              "          }\n",
              "          quickchartButtonEl.classList.remove('colab-df-spinner');\n",
              "          quickchartButtonEl.classList.add('colab-df-quickchart-complete');\n",
              "        }\n",
              "        (() => {\n",
              "          let quickchartButtonEl =\n",
              "            document.querySelector('#df-acb20721-98fb-4337-b4f4-e184a219981e button');\n",
              "          quickchartButtonEl.style.display =\n",
              "            google.colab.kernel.accessAllowed ? 'block' : 'none';\n",
              "        })();\n",
              "      </script>\n",
              "    </div>\n",
              "\n",
              "    </div>\n",
              "  </div>\n"
            ],
            "application/vnd.google.colaboratory.intrinsic+json": {
              "type": "dataframe",
              "summary": "{\n  \"name\": \"pd\",\n  \"rows\": 6484,\n  \"fields\": [\n    {\n      \"column\": \"MD_EARN_WNE_P10\",\n      \"properties\": {\n        \"dtype\": \"number\",\n        \"std\": 16979.447612542663,\n        \"min\": 8579.0,\n        \"max\": 143372.0,\n        \"num_unique_values\": 3932,\n        \"samples\": [\n          49131.0,\n          34081.0,\n          60909.0\n        ],\n        \"semantic_type\": \"\",\n        \"description\": \"\"\n      }\n    },\n    {\n      \"column\": \"STUFACR\",\n      \"properties\": {\n        \"dtype\": \"number\",\n        \"std\": 7.2270274771740475,\n        \"min\": 1.0,\n        \"max\": 134.0,\n        \"num_unique_values\": 59,\n        \"samples\": [\n          19.0,\n          16.0,\n          32.0\n        ],\n        \"semantic_type\": \"\",\n        \"description\": \"\"\n      }\n    },\n    {\n      \"column\": \"STUFACR\",\n      \"properties\": {\n        \"dtype\": \"number\",\n        \"std\": 7.2270274771740475,\n        \"min\": 1.0,\n        \"max\": 134.0,\n        \"num_unique_values\": 59,\n        \"samples\": [\n          19.0,\n          16.0,\n          32.0\n        ],\n        \"semantic_type\": \"\",\n        \"description\": \"\"\n      }\n    },\n    {\n      \"column\": \"C150_4\",\n      \"properties\": {\n        \"dtype\": \"number\",\n        \"std\": 0.220518045529424,\n        \"min\": 0.0,\n        \"max\": 1.0,\n        \"num_unique_values\": 1738,\n        \"samples\": [\n          0.5738,\n          0.4207,\n          0.8973\n        ],\n        \"semantic_type\": \"\",\n        \"description\": \"\"\n      }\n    },\n    {\n      \"column\": \"ADM_RATE\",\n      \"properties\": {\n        \"dtype\": \"number\",\n        \"std\": 0.22733121508891327,\n        \"min\": 0.0,\n        \"max\": 1.0,\n        \"num_unique_values\": 1529,\n        \"samples\": [\n          0.5342,\n          0.2115,\n          0.9594\n        ],\n        \"semantic_type\": \"\",\n        \"description\": \"\"\n      }\n    },\n    {\n      \"column\": \"MD_EARN_WNE_P10\",\n      \"properties\": {\n        \"dtype\": \"number\",\n        \"std\": 16979.447612542663,\n        \"min\": 8579.0,\n        \"max\": 143372.0,\n        \"num_unique_values\": 3932,\n        \"samples\": [\n          49131.0,\n          34081.0,\n          60909.0\n        ],\n        \"semantic_type\": \"\",\n        \"description\": \"\"\n      }\n    }\n  ]\n}"
            }
          },
          "metadata": {},
          "execution_count": 24
        }
      ]
    },
    {
      "cell_type": "markdown",
      "source": [
        "We need to name the new data set so that we can later export it using a .csv.\n",
        "To do this we will add the name we want our merged data to the front connected by an equal sign then the concat equaiton we previously made.\n",
        "\n",
        "In this example the new name is `merged_data`"
      ],
      "metadata": {
        "id": "D2vDhvkVS3gW"
      }
    },
    {
      "cell_type": "code",
      "source": [
        "merged_data = pd.concat([MDEARNVSSTUFR,STUFACRVSGRADRTE,ADMRTEVSMDEARN], axis=1)"
      ],
      "metadata": {
        "id": "FJ5tiDn3TGua"
      },
      "execution_count": 25,
      "outputs": []
    },
    {
      "cell_type": "markdown",
      "source": [
        "# Exporting the Data\n",
        "Now that we have created the new subset we need to export the data as a .csv file.\n",
        "To do this we can use the `.csv` function.\n",
        "\n"
      ],
      "metadata": {
        "id": "KIMN9aJVRAPl"
      }
    },
    {
      "cell_type": "code",
      "source": [
        "merged_data.to_csv('merged_data.csv', index=False)\n"
      ],
      "metadata": {
        "id": "OyDWJr3p6og1"
      },
      "execution_count": 30,
      "outputs": []
    },
    {
      "cell_type": "markdown",
      "source": [],
      "metadata": {
        "id": "beCUNN9ct4mF"
      }
    }
  ]
}